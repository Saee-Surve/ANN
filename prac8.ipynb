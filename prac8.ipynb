{
 "cells": [
  {
   "cell_type": "code",
   "execution_count": 1,
   "id": "3c2df17d-afa4-4673-994b-f048da4a5689",
   "metadata": {},
   "outputs": [
    {
     "name": "stdout",
     "output_type": "stream",
     "text": [
      "Recalled Vector:  [ 1 -1 -1 -1]\n"
     ]
    }
   ],
   "source": [
    "import numpy as np\n",
    "\n",
    "# Activation function (sign function)\n",
    "def activation(x):\n",
    "    return np.where(x >= 0, 1, -1)\n",
    "\n",
    "# Store the 4 vectors in a matrix (rows as vectors)\n",
    "stored_vectors = np.array([[1, -1, 1, -1], [-1, 1, -1, 1], [1, 1, -1, -1], [-1, -1, 1, 1]])\n",
    "\n",
    "# Initialize the weight matrix using Hebbian learning rule\n",
    "weights = np.zeros((4, 4))\n",
    "for vector in stored_vectors:\n",
    "    weights += np.outer(vector, vector)\n",
    "np.fill_diagonal(weights, 0)  # Set diagonal elements to 0\n",
    "\n",
    "# Function for recalling the stored vectors\n",
    "def recall(input_vector, weights, steps=10):\n",
    "    output_vector = input_vector.copy()\n",
    "    for _ in range(steps):\n",
    "        output_vector = activation(np.dot(output_vector, weights))\n",
    "    return output_vector\n",
    "\n",
    "# Test recall with an input close to one of the stored vectors\n",
    "input_vector = np.array([1, -1, -1, -1])  # Input vector to be recalled\n",
    "recalled_vector = recall(input_vector, weights)\n",
    "\n",
    "# Output recalled vector\n",
    "print(\"Recalled Vector: \", recalled_vector)\n"
   ]
  },
  {
   "cell_type": "code",
   "execution_count": null,
   "id": "0d790724-a168-4868-829e-c50be92aa8c9",
   "metadata": {},
   "outputs": [],
   "source": []
  }
 ],
 "metadata": {
  "kernelspec": {
   "display_name": "Python 3 (ipykernel)",
   "language": "python",
   "name": "python3"
  },
  "language_info": {
   "codemirror_mode": {
    "name": "ipython",
    "version": 3
   },
   "file_extension": ".py",
   "mimetype": "text/x-python",
   "name": "python",
   "nbconvert_exporter": "python",
   "pygments_lexer": "ipython3",
   "version": "3.12.3"
  },
  "widgets": {
   "application/vnd.jupyter.widget-state+json": {
    "state": {},
    "version_major": 2,
    "version_minor": 0
   }
  }
 },
 "nbformat": 4,
 "nbformat_minor": 5
}
