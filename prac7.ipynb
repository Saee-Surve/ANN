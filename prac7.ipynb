{
 "cells": [
  {
   "cell_type": "code",
   "execution_count": 2,
   "id": "26313ce2-d50b-49f5-a235-d3f5eeb1ec84",
   "metadata": {},
   "outputs": [
    {
     "name": "stdout",
     "output_type": "stream",
     "text": [
      "Epoch 0/10000, Error: 0.3697401512823675\n",
      "Epoch 1000/10000, Error: 0.22223997079614402\n",
      "Epoch 2000/10000, Error: 0.07733782827354001\n",
      "Epoch 3000/10000, Error: 0.02153660011177732\n",
      "Epoch 4000/10000, Error: 0.010418140019844447\n",
      "Epoch 5000/10000, Error: 0.006524990110044298\n",
      "Epoch 6000/10000, Error: 0.004649753342623102\n",
      "Epoch 7000/10000, Error: 0.003572330432688032\n",
      "Epoch 8000/10000, Error: 0.0028815909647696325\n",
      "Epoch 9000/10000, Error: 0.002404640943164187\n",
      "\n",
      "Final Predictions:\n",
      "[[0.]\n",
      " [1.]\n",
      " [1.]\n",
      " [0.]]\n"
     ]
    }
   ],
   "source": [
    "import numpy as np\n",
    "\n",
    "# Sigmoid activation function and its derivative\n",
    "def sigmoid(x):\n",
    "    return 1 / (1 + np.exp(-x))\n",
    "\n",
    "def sigmoid_derivative(x):\n",
    "    return x * (1 - x)\n",
    "\n",
    "# Input and output for XOR\n",
    "X = np.array([[0, 0], [0, 1], [1, 0], [1, 1]])\n",
    "Y = np.array([[0], [1], [1], [0]])\n",
    "\n",
    "# Initialize weights and biases\n",
    "np.random.seed(42)\n",
    "input_to_hidden_weights = np.random.randn(2, 4)\n",
    "hidden_to_output_weights = np.random.randn(4, 1)\n",
    "hidden_bias = np.random.randn(1, 4)\n",
    "output_bias = np.random.randn(1, 1)\n",
    "\n",
    "# Learning rate and epochs\n",
    "learning_rate = 0.1\n",
    "epochs = 10000\n",
    "\n",
    "# Training loop\n",
    "for epoch in range(epochs):\n",
    "    # Forward propagation\n",
    "    hidden_input = np.dot(X, input_to_hidden_weights) + hidden_bias\n",
    "    hidden_output = sigmoid(hidden_input)\n",
    "    final_input = np.dot(hidden_output, hidden_to_output_weights) + output_bias\n",
    "    predicted_output = sigmoid(final_input)\n",
    "    \n",
    "    # Calculate error and backpropagate\n",
    "    error = Y - predicted_output\n",
    "    d_predicted_output = error * sigmoid_derivative(predicted_output)\n",
    "    error_hidden_layer = d_predicted_output.dot(hidden_to_output_weights.T)\n",
    "    d_hidden_layer = error_hidden_layer * sigmoid_derivative(hidden_output)\n",
    "    \n",
    "    # Update weights and biases\n",
    "    hidden_to_output_weights += hidden_output.T.dot(d_predicted_output) * learning_rate\n",
    "    input_to_hidden_weights += X.T.dot(d_hidden_layer) * learning_rate\n",
    "    output_bias += np.sum(d_predicted_output, axis=0, keepdims=True) * learning_rate\n",
    "    hidden_bias += np.sum(d_hidden_layer, axis=0, keepdims=True) * learning_rate\n",
    "\n",
    "    if epoch % 1000 == 0:\n",
    "        print(f\"Epoch {epoch}/{epochs}, Error: {np.mean(error**2)}\")\n",
    "\n",
    "# Final predictions\n",
    "print(\"\\nFinal Predictions:\")\n",
    "print(predicted_output.round())\n"
   ]
  },
  {
   "cell_type": "code",
   "execution_count": null,
   "id": "74ef0021-d5aa-433f-9398-cc62b2162fa7",
   "metadata": {},
   "outputs": [],
   "source": []
  }
 ],
 "metadata": {
  "kernelspec": {
   "display_name": "Python 3 (ipykernel)",
   "language": "python",
   "name": "python3"
  },
  "language_info": {
   "codemirror_mode": {
    "name": "ipython",
    "version": 3
   },
   "file_extension": ".py",
   "mimetype": "text/x-python",
   "name": "python",
   "nbconvert_exporter": "python",
   "pygments_lexer": "ipython3",
   "version": "3.12.3"
  },
  "widgets": {
   "application/vnd.jupyter.widget-state+json": {
    "state": {},
    "version_major": 2,
    "version_minor": 0
   }
  }
 },
 "nbformat": 4,
 "nbformat_minor": 5
}
