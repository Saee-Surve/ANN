{
 "cells": [
  {
   "cell_type": "code",
   "execution_count": 2,
   "id": "e9611f70-51c1-4c6b-88c5-06aade58d1bc",
   "metadata": {},
   "outputs": [
    {
     "name": "stdout",
     "output_type": "stream",
     "text": [
      "Forward recall:\n",
      "Input: [ 1 -1  1] → Output (Target): [1 1]\n",
      "Input: [-1  1 -1] → Output (Target): [-1 -1]\n",
      "\n",
      "Backward recall:\n",
      "Target: [1 1] → Output (Input): [ 1 -1  1]\n",
      "Target: [-1 -1] → Output (Input): [-1  1 -1]\n"
     ]
    }
   ],
   "source": [
    "import numpy as np\n",
    "\n",
    "# Input and target pairs\n",
    "input_vectors = np.array([[1, -1, 1], [-1, 1, -1]])       # 2 input vectors (X1, X2)\n",
    "target_vectors = np.array([[1, 1], [-1, -1]])              # 2 target vectors (Y1, Y2)\n",
    "\n",
    "# Weight matrix using Hebbian learning\n",
    "weight_matrix = input_vectors.T @ target_vectors\n",
    "\n",
    "# Recall: Forward (input → target)\n",
    "print(\"Forward recall:\")\n",
    "for input_vector in input_vectors:\n",
    "    output_target = np.sign(input_vector @ weight_matrix)\n",
    "    print(f\"Input: {input_vector} → Output (Target): {output_target}\")\n",
    "\n",
    "# Recall: Backward (target → input)\n",
    "print(\"\\nBackward recall:\")\n",
    "for target_vector in target_vectors:\n",
    "    output_input = np.sign(target_vector @ weight_matrix.T)\n",
    "    print(f\"Target: {target_vector} → Output (Input): {output_input}\")\n"
   ]
  },
  {
   "cell_type": "code",
   "execution_count": null,
   "id": "f0c7dfc7-745f-4806-b03a-470081c5ef74",
   "metadata": {},
   "outputs": [],
   "source": []
  }
 ],
 "metadata": {
  "kernelspec": {
   "display_name": "Python 3 (ipykernel)",
   "language": "python",
   "name": "python3"
  },
  "language_info": {
   "codemirror_mode": {
    "name": "ipython",
    "version": 3
   },
   "file_extension": ".py",
   "mimetype": "text/x-python",
   "name": "python",
   "nbconvert_exporter": "python",
   "pygments_lexer": "ipython3",
   "version": "3.12.3"
  },
  "widgets": {
   "application/vnd.jupyter.widget-state+json": {
    "state": {},
    "version_major": 2,
    "version_minor": 0
   }
  }
 },
 "nbformat": 4,
 "nbformat_minor": 5
}
