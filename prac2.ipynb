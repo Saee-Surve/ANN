{
 "cells": [
  {
   "cell_type": "code",
   "execution_count": 2,
   "id": "023c0165-8509-4eb6-a55d-875e0f81c262",
   "metadata": {},
   "outputs": [
    {
     "name": "stdout",
     "output_type": "stream",
     "text": [
      "ANDNOT Function Outputs:\n",
      "Input: (0, 0) -> Output: 0\n",
      "Input: (0, 1) -> Output: 0\n",
      "Input: (1, 0) -> Output: 1\n",
      "Input: (1, 1) -> Output: 0\n"
     ]
    }
   ],
   "source": [
    "import numpy as np\n",
    "\n",
    "# McCulloch-Pitts Neural Network for ANDNOT function\n",
    "\n",
    "def and_not_function(x1, x2):\n",
    "    # Weights for the inputs\n",
    "    weights = np.array([1, -1])  # Weights for A and NOT B (A AND NOT B)\n",
    "    \n",
    "    # Input vector\n",
    "    inputs = np.array([x1, x2])\n",
    "    \n",
    "    # Bias (Threshold value)\n",
    "    bias = -0.5\n",
    "    \n",
    "    # Calculate net input (weighted sum of inputs)\n",
    "    net_input = np.dot(weights, inputs) + bias\n",
    "    \n",
    "    # Step function (Threshold Activation Function)\n",
    "    return 1 if net_input >= 0 else 0\n",
    "\n",
    "# Test the ANDNOT function\n",
    "print(\"ANDNOT Function Outputs:\")\n",
    "for x1 in [0, 1]:\n",
    "    for x2 in [0, 1]:\n",
    "        output = and_not_function(x1, x2)\n",
    "        print(f\"Input: ({x1}, {x2}) -> Output: {output}\")\n"
   ]
  },
  {
   "cell_type": "code",
   "execution_count": null,
   "id": "8f35f1ce-68f3-4d54-9988-ff28c93d0249",
   "metadata": {},
   "outputs": [],
   "source": []
  }
 ],
 "metadata": {
  "kernelspec": {
   "display_name": "Python 3 (ipykernel)",
   "language": "python",
   "name": "python3"
  },
  "language_info": {
   "codemirror_mode": {
    "name": "ipython",
    "version": 3
   },
   "file_extension": ".py",
   "mimetype": "text/x-python",
   "name": "python",
   "nbconvert_exporter": "python",
   "pygments_lexer": "ipython3",
   "version": "3.12.3"
  },
  "widgets": {
   "application/vnd.jupyter.widget-state+json": {
    "state": {},
    "version_major": 2,
    "version_minor": 0
   }
  }
 },
 "nbformat": 4,
 "nbformat_minor": 5
}
